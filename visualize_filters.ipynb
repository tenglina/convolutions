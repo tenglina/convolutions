{
 "cells": [
  {
   "cell_type": "code",
   "execution_count": 52,
   "id": "2498881f",
   "metadata": {},
   "outputs": [],
   "source": [
    "import cv2\n",
    "import numpy as np\n",
    "import matplotlib.pyplot as plt\n",
    "import tensorflow as tf"
   ]
  },
  {
   "cell_type": "code",
   "execution_count": 19,
   "id": "a24afb35",
   "metadata": {},
   "outputs": [
    {
     "name": "stdout",
     "output_type": "stream",
     "text": [
      "Model: \"sequential_1\"\n",
      "_________________________________________________________________\n",
      " Layer (type)                Output Shape              Param #   \n",
      "=================================================================\n",
      " conv2d_2 (Conv2D)           (None, 26, 26, 64)        640       \n",
      "                                                                 \n",
      " max_pooling2d_2 (MaxPooling  (None, 13, 13, 64)       0         \n",
      " 2D)                                                             \n",
      "                                                                 \n",
      " conv2d_3 (Conv2D)           (None, 11, 11, 64)        36928     \n",
      "                                                                 \n",
      " max_pooling2d_3 (MaxPooling  (None, 5, 5, 64)         0         \n",
      " 2D)                                                             \n",
      "                                                                 \n",
      " flatten_1 (Flatten)         (None, 1600)              0         \n",
      "                                                                 \n",
      " dense_2 (Dense)             (None, 20)                32020     \n",
      "                                                                 \n",
      " dense_3 (Dense)             (None, 10)                210       \n",
      "                                                                 \n",
      "=================================================================\n",
      "Total params: 69,798\n",
      "Trainable params: 69,798\n",
      "Non-trainable params: 0\n",
      "_________________________________________________________________\n",
      "Epoch 1/20\n",
      "1875/1875 [==============================] - 17s 9ms/step - loss: 0.5107 - accuracy: 0.8138 - val_loss: 0.3850 - val_accuracy: 0.8602\n",
      "Epoch 2/20\n",
      "1875/1875 [==============================] - 17s 9ms/step - loss: 0.3367 - accuracy: 0.8788 - val_loss: 0.3458 - val_accuracy: 0.8784\n",
      "Epoch 3/20\n",
      "1875/1875 [==============================] - 17s 9ms/step - loss: 0.2943 - accuracy: 0.8938 - val_loss: 0.3093 - val_accuracy: 0.8895\n",
      "Epoch 4/20\n",
      "1875/1875 [==============================] - 17s 9ms/step - loss: 0.2635 - accuracy: 0.9036 - val_loss: 0.2919 - val_accuracy: 0.8981\n",
      "Epoch 5/20\n",
      "1875/1875 [==============================] - 17s 9ms/step - loss: 0.2394 - accuracy: 0.9128 - val_loss: 0.2738 - val_accuracy: 0.9021\n",
      "Epoch 6/20\n",
      "1875/1875 [==============================] - 17s 9ms/step - loss: 0.2205 - accuracy: 0.9193 - val_loss: 0.2650 - val_accuracy: 0.9032\n",
      "Epoch 7/20\n",
      "1875/1875 [==============================] - 17s 9ms/step - loss: 0.2061 - accuracy: 0.9245 - val_loss: 0.2644 - val_accuracy: 0.9078\n",
      "Epoch 8/20\n",
      "1875/1875 [==============================] - 17s 9ms/step - loss: 0.1886 - accuracy: 0.9298 - val_loss: 0.2618 - val_accuracy: 0.9076\n",
      "Epoch 9/20\n",
      "1875/1875 [==============================] - 17s 9ms/step - loss: 0.1776 - accuracy: 0.9347 - val_loss: 0.2622 - val_accuracy: 0.9088\n",
      "Epoch 10/20\n",
      "1875/1875 [==============================] - 17s 9ms/step - loss: 0.1640 - accuracy: 0.9402 - val_loss: 0.2614 - val_accuracy: 0.9088\n",
      "Epoch 11/20\n",
      "1875/1875 [==============================] - 17s 9ms/step - loss: 0.1557 - accuracy: 0.9430 - val_loss: 0.2961 - val_accuracy: 0.9000\n",
      "Epoch 12/20\n",
      "1875/1875 [==============================] - 17s 9ms/step - loss: 0.1454 - accuracy: 0.9462 - val_loss: 0.2938 - val_accuracy: 0.9083\n",
      "Epoch 13/20\n",
      "1875/1875 [==============================] - 17s 9ms/step - loss: 0.1377 - accuracy: 0.9497 - val_loss: 0.2847 - val_accuracy: 0.9099\n",
      "Epoch 14/20\n",
      "1875/1875 [==============================] - 17s 9ms/step - loss: 0.1291 - accuracy: 0.9528 - val_loss: 0.2936 - val_accuracy: 0.9067\n",
      "Epoch 15/20\n",
      "1875/1875 [==============================] - 17s 9ms/step - loss: 0.1213 - accuracy: 0.9556 - val_loss: 0.3007 - val_accuracy: 0.9080\n",
      "Epoch 16/20\n",
      "1875/1875 [==============================] - 17s 9ms/step - loss: 0.1142 - accuracy: 0.9584 - val_loss: 0.3226 - val_accuracy: 0.9038\n",
      "Epoch 17/20\n",
      "1875/1875 [==============================] - 17s 9ms/step - loss: 0.1078 - accuracy: 0.9610 - val_loss: 0.3147 - val_accuracy: 0.9072\n",
      "Epoch 18/20\n",
      "1875/1875 [==============================] - 17s 9ms/step - loss: 0.1022 - accuracy: 0.9627 - val_loss: 0.3209 - val_accuracy: 0.9079\n",
      "Epoch 19/20\n",
      "1875/1875 [==============================] - 17s 9ms/step - loss: 0.0949 - accuracy: 0.9653 - val_loss: 0.3358 - val_accuracy: 0.9100\n",
      "Epoch 20/20\n",
      "1875/1875 [==============================] - 17s 9ms/step - loss: 0.0898 - accuracy: 0.9670 - val_loss: 0.3576 - val_accuracy: 0.9085\n"
     ]
    },
    {
     "data": {
      "text/plain": [
       "<keras.callbacks.History at 0x3152d5100>"
      ]
     },
     "execution_count": 19,
     "metadata": {},
     "output_type": "execute_result"
    }
   ],
   "source": [
    "\n",
    "mnist = tf.keras.datasets.fashion_mnist\n",
    "(training_images, training_labels), (val_images, val_labels) = mnist.load_data()\n",
    "training_images=training_images.reshape(60000, 28, 28, 1)\n",
    "training_images=training_images / 255.0\n",
    "val_images=val_images.reshape(10000, 28, 28, 1)\n",
    "val_images=val_images/255.0\n",
    "model = tf.keras.models.Sequential([\n",
    "  tf.keras.layers.Conv2D(64, (3,3), activation='relu', input_shape=(28, 28, 1)),\n",
    "  tf.keras.layers.MaxPooling2D(2, 2),\n",
    "  tf.keras.layers.Conv2D(64, (3,3), activation='relu'),\n",
    "  tf.keras.layers.MaxPooling2D(2,2),\n",
    "  tf.keras.layers.Flatten(),\n",
    "  tf.keras.layers.Dense(20, activation='relu'),\n",
    "  tf.keras.layers.Dense(10, activation='softmax')\n",
    "])\n",
    "model.compile(optimizer='adam', loss='sparse_categorical_crossentropy', metrics=['accuracy'])\n",
    "model.summary()\n",
    "model.fit(training_images, training_labels, validation_data=(val_images, val_labels), epochs=20)\n"
   ]
  },
  {
   "cell_type": "code",
   "execution_count": 87,
   "id": "6a41090d",
   "metadata": {},
   "outputs": [
    {
     "name": "stdout",
     "output_type": "stream",
     "text": [
      "[ 13  29  32  33  42  67  75  86  91 100 124 159 162 176 182 194 197 215\n",
      " 259 266]\n"
     ]
    }
   ],
   "source": [
    "# find indicies where dresses are located\n",
    "print(np.where(val_labels==3)[0][:20])"
   ]
  },
  {
   "cell_type": "code",
   "execution_count": 100,
   "id": "324a6ada",
   "metadata": {},
   "outputs": [
    {
     "name": "stdout",
     "output_type": "stream",
     "text": [
      "[9 2 1 1 6 1 4 6 5 7 4 5 7 3 4 1 2 4 8 0]\n"
     ]
    }
   ],
   "source": [
    "print(val_labels[:20])"
   ]
  },
  {
   "cell_type": "code",
   "execution_count": 97,
   "id": "696a1cb7",
   "metadata": {},
   "outputs": [
    {
     "name": "stdout",
     "output_type": "stream",
     "text": [
      "1/1 [==============================] - 0s 84ms/step\n",
      "1/1 [==============================] - 0s 9ms/step\n",
      "1/1 [==============================] - 0s 9ms/step\n",
      "1/1 [==============================] - 0s 9ms/step\n",
      "1/1 [==============================] - 0s 8ms/step\n",
      "1/1 [==============================] - 0s 8ms/step\n",
      "1/1 [==============================] - 0s 8ms/step\n",
      "1/1 [==============================] - 0s 8ms/step\n",
      "1/1 [==============================] - 0s 8ms/step\n",
      "1/1 [==============================] - 0s 8ms/step\n",
      "1/1 [==============================] - 0s 8ms/step\n",
      "1/1 [==============================] - 0s 8ms/step\n"
     ]
    },
    {
     "data": {
      "image/png": "[encoded data removed]",
      "text/plain": [
       "<Figure size 1152x864 with 15 Axes>"
      ]
     },
     "metadata": {
      "needs_background": "light"
     },
     "output_type": "display_data"
    }
   ],
   "source": [
    "def show_image(img,r,c, ax):\n",
    "      \n",
    "    ax[r,c].imshow(val_images[img].reshape(28,28))\n",
    "    ax[r,c].grid(False)\n",
    "\n",
    "\n",
    "f, axarr = plt.subplots(3,5, figsize=(16, 12))\n",
    "\n",
    "# Choose images to visualize filters for and plot \n",
    "FIRST_IMAGE=8 #sandals label = 5\n",
    "SECOND_IMAGE=0 #shoes label = 9\n",
    "THIRD_IMAGE= 91 #dress label = 3\n",
    "\n",
    "# For shoes (0, 23, 28), Convolution_Number=1 (i.e. the second filter) shows\n",
    "# the sole being filtered out very clearly\n",
    "\n",
    "CONVOLUTION_NUMBER = 1\n",
    "from tensorflow.keras import models\n",
    "layer_outputs = [layer.output for layer in model.layers]\n",
    "activation_model = tf.keras.models.Model(inputs = model.input, outputs = layer_outputs)\n",
    "\n",
    "\n",
    "for x in range(0,4):\n",
    "    f1 = activation_model.predict(val_images[FIRST_IMAGE].reshape(1, 28, 28, 1))[x]\n",
    "    axarr[0,x].imshow(f1[0, : , :, CONVOLUTION_NUMBER], cmap='inferno')\n",
    "    axarr[0,x].grid(False)\n",
    "    f2 = activation_model.predict(val_images[SECOND_IMAGE].reshape(1, 28, 28, 1))[x]\n",
    "    axarr[1,x].imshow(f2[0, : , :, CONVOLUTION_NUMBER], cmap='inferno')\n",
    "    axarr[1,x].grid(False)\n",
    "    f3 = activation_model.predict(val_images[THIRD_IMAGE].reshape(1, 28, 28, 1))[x]\n",
    "    axarr[2,x].imshow(f3[0, : , :, CONVOLUTION_NUMBER], cmap='inferno')\n",
    "    axarr[2,x].grid(False)\n",
    "\n",
    "\n",
    "show_image(FIRST_IMAGE,0,4, axarr)\n",
    "show_image(SECOND_IMAGE, 1, 4, axarr)\n",
    "show_image(THIRD_IMAGE, 2, 4, axarr)"
   ]
  },
  {
   "cell_type": "code",
   "execution_count": null,
   "id": "9304128c",
   "metadata": {},
   "outputs": [],
   "source": []
  },
  {
   "cell_type": "code",
   "execution_count": null,
   "id": "b06c825e",
   "metadata": {},
   "outputs": [],
   "source": []
  },
  {
   "cell_type": "code",
   "execution_count": null,
   "id": "2999d161",
   "metadata": {},
   "outputs": [],
   "source": []
  },
  {
   "cell_type": "code",
   "execution_count": null,
   "id": "d73f5b6f",
   "metadata": {},
   "outputs": [],
   "source": []
  },
  {
   "cell_type": "code",
   "execution_count": null,
   "id": "ce3c21f9",
   "metadata": {},
   "outputs": [],
   "source": [
    "  "
   ]
  },
  {
   "cell_type": "code",
   "execution_count": null,
   "id": "0b49876b",
   "metadata": {},
   "outputs": [],
   "source": []
  },
  {
   "cell_type": "code",
   "execution_count": 13,
   "id": "3c5b6f95",
   "metadata": {},
   "outputs": [],
   "source": []
  },
  {
   "cell_type": "code",
   "execution_count": null,
   "id": "939609cc",
   "metadata": {},
   "outputs": [],
   "source": []
  }
 ],
 "metadata": {
  "kernelspec": {
   "display_name": "Python 3",
   "language": "python",
   "name": "python3"
  },
  "language_info": {
   "codemirror_mode": {
    "name": "ipython",
    "version": 3
   },
   "file_extension": ".py",
   "mimetype": "text/x-python",
   "name": "python",
   "nbconvert_exporter": "python",
   "pygments_lexer": "ipython3",
   "version": "3.9.12"
  }
 },
 "nbformat": 4,
 "nbformat_minor": 5
}
