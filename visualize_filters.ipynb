{
 "cells": [
  {
   "cell_type": "markdown",
   "id": "aba91663",
   "metadata": {},
   "source": [
    "# Visualize Convolutions (filters) in CNNs\n",
    "\n",
    "In this notebook, the goal is to visualize convolutions graphically. We train a simple CNN on the Fashion-MNIST dataset in order to see how convolutions extract features from images."
   ]
  },
  {
   "cell_type": "code",
   "execution_count": 1,
   "id": "28cb24c5",
   "metadata": {},
   "outputs": [],
   "source": [
    "import cv2\n",
    "import numpy as np\n",
    "import matplotlib.pyplot as plt\n",
    "import tensorflow as tf"
   ]
  },
  {
   "cell_type": "markdown",
   "id": "7a89eec9",
   "metadata": {},
   "source": [
    "## Build and train a simple CNN"
   ]
  },
  {
   "cell_type": "code",
   "execution_count": 2,
   "id": "a24afb35",
   "metadata": {},
   "outputs": [
    {
     "name": "stdout",
     "output_type": "stream",
     "text": [
      "Model: \"sequential\"\n",
      "_________________________________________________________________\n",
      " Layer (type)                Output Shape              Param #   \n",
      "=================================================================\n",
      " conv2d (Conv2D)             (None, 26, 26, 64)        640       \n",
      "                                                                 \n",
      " max_pooling2d (MaxPooling2D  (None, 13, 13, 64)       0         \n",
      " )                                                               \n",
      "                                                                 \n",
      " conv2d_1 (Conv2D)           (None, 11, 11, 64)        36928     \n",
      "                                                                 \n",
      " max_pooling2d_1 (MaxPooling  (None, 5, 5, 64)         0         \n",
      " 2D)                                                             \n",
      "                                                                 \n",
      " flatten (Flatten)           (None, 1600)              0         \n",
      "                                                                 \n",
      " dense (Dense)               (None, 20)                32020     \n",
      "                                                                 \n",
      " dense_1 (Dense)             (None, 10)                210       \n",
      "                                                                 \n",
      "=================================================================\n",
      "Total params: 69,798\n",
      "Trainable params: 69,798\n",
      "Non-trainable params: 0\n",
      "_________________________________________________________________\n",
      "Epoch 1/20\n",
      "1875/1875 [==============================] - 18s 9ms/step - loss: 0.5267 - accuracy: 0.8126 - val_loss: 0.3872 - val_accuracy: 0.8595\n",
      "Epoch 2/20\n",
      "1875/1875 [==============================] - 17s 9ms/step - loss: 0.3344 - accuracy: 0.8787 - val_loss: 0.3387 - val_accuracy: 0.8806\n",
      "Epoch 3/20\n",
      "1875/1875 [==============================] - 17s 9ms/step - loss: 0.2837 - accuracy: 0.8972 - val_loss: 0.3145 - val_accuracy: 0.8862\n",
      "Epoch 4/20\n",
      "1875/1875 [==============================] - 17s 9ms/step - loss: 0.2577 - accuracy: 0.9071 - val_loss: 0.2994 - val_accuracy: 0.8929\n",
      "Epoch 5/20\n",
      "1875/1875 [==============================] - 17s 9ms/step - loss: 0.2323 - accuracy: 0.9157 - val_loss: 0.2797 - val_accuracy: 0.8995\n",
      "Epoch 6/20\n",
      "1875/1875 [==============================] - 17s 9ms/step - loss: 0.2136 - accuracy: 0.9224 - val_loss: 0.2645 - val_accuracy: 0.9050\n",
      "Epoch 7/20\n",
      "1875/1875 [==============================] - 17s 9ms/step - loss: 0.1979 - accuracy: 0.9275 - val_loss: 0.2674 - val_accuracy: 0.9072\n",
      "Epoch 8/20\n",
      "1875/1875 [==============================] - 17s 9ms/step - loss: 0.1825 - accuracy: 0.9331 - val_loss: 0.2672 - val_accuracy: 0.9013\n",
      "Epoch 9/20\n",
      "1875/1875 [==============================] - 17s 9ms/step - loss: 0.1699 - accuracy: 0.9377 - val_loss: 0.2772 - val_accuracy: 0.9003\n",
      "Epoch 10/20\n",
      "1875/1875 [==============================] - 17s 9ms/step - loss: 0.1597 - accuracy: 0.9418 - val_loss: 0.2709 - val_accuracy: 0.9077\n",
      "Epoch 11/20\n",
      "1875/1875 [==============================] - 17s 9ms/step - loss: 0.1474 - accuracy: 0.9456 - val_loss: 0.2828 - val_accuracy: 0.9089\n",
      "Epoch 12/20\n",
      "1875/1875 [==============================] - 17s 9ms/step - loss: 0.1382 - accuracy: 0.9485 - val_loss: 0.2803 - val_accuracy: 0.9063\n",
      "Epoch 13/20\n",
      "1875/1875 [==============================] - 17s 9ms/step - loss: 0.1318 - accuracy: 0.9523 - val_loss: 0.2832 - val_accuracy: 0.9115\n",
      "Epoch 14/20\n",
      "1875/1875 [==============================] - 17s 9ms/step - loss: 0.1220 - accuracy: 0.9550 - val_loss: 0.3073 - val_accuracy: 0.9076\n",
      "Epoch 15/20\n",
      "1875/1875 [==============================] - 17s 9ms/step - loss: 0.1152 - accuracy: 0.9573 - val_loss: 0.3010 - val_accuracy: 0.9099\n",
      "Epoch 16/20\n",
      "1875/1875 [==============================] - 17s 9ms/step - loss: 0.1068 - accuracy: 0.9606 - val_loss: 0.3353 - val_accuracy: 0.9035\n",
      "Epoch 17/20\n",
      "1875/1875 [==============================] - 17s 9ms/step - loss: 0.1036 - accuracy: 0.9616 - val_loss: 0.3404 - val_accuracy: 0.9014\n",
      "Epoch 18/20\n",
      "1875/1875 [==============================] - 17s 9ms/step - loss: 0.0956 - accuracy: 0.9646 - val_loss: 0.3354 - val_accuracy: 0.9012\n",
      "Epoch 19/20\n",
      "1875/1875 [==============================] - 17s 9ms/step - loss: 0.0918 - accuracy: 0.9659 - val_loss: 0.3597 - val_accuracy: 0.9059\n",
      "Epoch 20/20\n",
      "1875/1875 [==============================] - 17s 9ms/step - loss: 0.0869 - accuracy: 0.9681 - val_loss: 0.3860 - val_accuracy: 0.9002\n"
     ]
    },
    {
     "data": {
      "text/plain": [
       "<keras.callbacks.History at 0x313bbfe50>"
      ]
     },
     "execution_count": 2,
     "metadata": {},
     "output_type": "execute_result"
    }
   ],
   "source": [
    "\n",
    "mnist = tf.keras.datasets.fashion_mnist\n",
    "(training_images, training_labels), (val_images, val_labels) = mnist.load_data()\n",
    "training_images=training_images.reshape(60000, 28, 28, 1)\n",
    "training_images=training_images / 255.0\n",
    "val_images=val_images.reshape(10000, 28, 28, 1)\n",
    "val_images=val_images/255.0\n",
    "model = tf.keras.models.Sequential([\n",
    "  tf.keras.layers.Conv2D(64, (3,3), activation='relu', input_shape=(28, 28, 1)),\n",
    "  tf.keras.layers.MaxPooling2D(2, 2),\n",
    "  tf.keras.layers.Conv2D(64, (3,3), activation='relu'),\n",
    "  tf.keras.layers.MaxPooling2D(2,2),\n",
    "  tf.keras.layers.Flatten(),\n",
    "  tf.keras.layers.Dense(20, activation='relu'),\n",
    "  tf.keras.layers.Dense(10, activation='softmax')\n",
    "])\n",
    "model.compile(optimizer='adam', loss='sparse_categorical_crossentropy', metrics=['accuracy'])\n",
    "model.summary()\n",
    "model.fit(training_images, training_labels, validation_data=(val_images, val_labels), epochs=20)\n"
   ]
  },
  {
   "cell_type": "code",
   "execution_count": 6,
   "id": "6a41090d",
   "metadata": {
    "scrolled": true
   },
   "outputs": [
    {
     "name": "stdout",
     "output_type": "stream",
     "text": [
      "[ 13  29  32  33  42  67  75  86  91 100 124 159 162 176 182 194 197 215\n",
      " 259 266]\n"
     ]
    }
   ],
   "source": [
    "# find indicies of dresses in the datase\n",
    "print(np.where(val_labels==3)[0][:20])\n",
    "\n",
    "\n",
    "#sandals label = 5\n",
    "#shoes label = 9\n",
    "#dress label = 3"
   ]
  },
  {
   "cell_type": "code",
   "execution_count": 7,
   "id": "324a6ada",
   "metadata": {},
   "outputs": [
    {
     "name": "stdout",
     "output_type": "stream",
     "text": [
      "[9 2 1 1 6 1 4 6 5 7 4 5 7 3 4 1 2 4 8 0]\n"
     ]
    }
   ],
   "source": [
    "print(val_labels[:20])"
   ]
  },
  {
   "cell_type": "markdown",
   "id": "70f2ec3e",
   "metadata": {},
   "source": [
    "## Visualize filters\n",
    "\n",
    "Visualize different filters on different items in the dataset. If we plot multiple images of shoes, we can see a pattern emerging in the 'features' that emerge from running the convolutions. The final dense layers are trained on the more targeted data generated from the Convolution/pooling combo\n",
    "\n",
    "- play around with different Convolution numbers \n",
    "- Plotting different items in the dataset (dresses, shoes, sandals, shirts etc.)"
   ]
  },
  {
   "cell_type": "code",
   "execution_count": 8,
   "id": "696a1cb7",
   "metadata": {},
   "outputs": [
    {
     "name": "stdout",
     "output_type": "stream",
     "text": [
      "1/1 [==============================] - 0s 75ms/step\n",
      "1/1 [==============================] - 0s 9ms/step\n",
      "1/1 [==============================] - 0s 9ms/step\n",
      "1/1 [==============================] - 0s 8ms/step\n",
      "1/1 [==============================] - 0s 8ms/step\n",
      "1/1 [==============================] - 0s 8ms/step\n",
      "1/1 [==============================] - 0s 9ms/step\n",
      "1/1 [==============================] - 0s 8ms/step\n",
      "1/1 [==============================] - 0s 8ms/step\n",
      "1/1 [==============================] - 0s 8ms/step\n",
      "1/1 [==============================] - 0s 8ms/step\n",
      "1/1 [==============================] - 0s 8ms/step\n"
     ]
    },
    {
     "data": {
      "image/png": "[encoded data removed]",
      "text/plain": [
       "<Figure size 1152x864 with 15 Axes>"
      ]
     },
     "metadata": {
      "needs_background": "light"
     },
     "output_type": "display_data"
    }
   ],
   "source": [
    "def show_image(img,r,c, ax):\n",
    "      \n",
    "    ax[r,c].imshow(val_images[img].reshape(28,28))\n",
    "    ax[r,c].grid(False)\n",
    "\n",
    "\n",
    "f, axarr = plt.subplots(3,5, figsize=(16, 12))\n",
    "\n",
    "# Choose images to visualize filters for and plot \n",
    "FIRST_IMAGE=0\n",
    "SECOND_IMAGE=23 \n",
    "THIRD_IMAGE= 28 \n",
    "\n",
    "\n",
    "CONVOLUTION_NUMBER = 5\n",
    "from tensorflow.keras import models\n",
    "layer_outputs = [layer.output for layer in model.layers]\n",
    "activation_model = tf.keras.models.Model(inputs = model.input, outputs = layer_outputs)\n",
    "\n",
    "\n",
    "for x in range(0,4):\n",
    "    f1 = activation_model.predict(val_images[FIRST_IMAGE].reshape(1, 28, 28, 1))[x]\n",
    "    axarr[0,x].imshow(f1[0, : , :, CONVOLUTION_NUMBER], cmap='inferno')\n",
    "    axarr[0,x].grid(False)\n",
    "    f2 = activation_model.predict(val_images[SECOND_IMAGE].reshape(1, 28, 28, 1))[x]\n",
    "    axarr[1,x].imshow(f2[0, : , :, CONVOLUTION_NUMBER], cmap='inferno')\n",
    "    axarr[1,x].grid(False)\n",
    "    f3 = activation_model.predict(val_images[THIRD_IMAGE].reshape(1, 28, 28, 1))[x]\n",
    "    axarr[2,x].imshow(f3[0, : , :, CONVOLUTION_NUMBER], cmap='inferno')\n",
    "    axarr[2,x].grid(False)\n",
    "\n",
    "\n",
    "show_image(FIRST_IMAGE,0,4, axarr)\n",
    "show_image(SECOND_IMAGE, 1, 4, axarr)\n",
    "show_image(THIRD_IMAGE, 2, 4, axarr)"
   ]
  },
  {
   "cell_type": "markdown",
   "id": "50203655",
   "metadata": {},
   "source": [
    "We can see the sole of the shoes being filtered out in the first two columns. Additional experiments can be done by replacing the images (indices) used with those belonging to dresses or shirts etc. \n",
    "\n"
   ]
  },
  {
   "cell_type": "code",
   "execution_count": null,
   "id": "b06c825e",
   "metadata": {},
   "outputs": [],
   "source": []
  },
  {
   "cell_type": "code",
   "execution_count": null,
   "id": "2999d161",
   "metadata": {},
   "outputs": [],
   "source": []
  },
  {
   "cell_type": "code",
   "execution_count": null,
   "id": "d73f5b6f",
   "metadata": {},
   "outputs": [],
   "source": []
  },
  {
   "cell_type": "code",
   "execution_count": null,
   "id": "ce3c21f9",
   "metadata": {},
   "outputs": [],
   "source": [
    "  "
   ]
  },
  {
   "cell_type": "code",
   "execution_count": null,
   "id": "0b49876b",
   "metadata": {},
   "outputs": [],
   "source": []
  },
  {
   "cell_type": "code",
   "execution_count": 13,
   "id": "3c5b6f95",
   "metadata": {},
   "outputs": [],
   "source": []
  },
  {
   "cell_type": "code",
   "execution_count": null,
   "id": "939609cc",
   "metadata": {},
   "outputs": [],
   "source": []
  }
 ],
 "metadata": {
  "kernelspec": {
   "display_name": "Python 3",
   "language": "python",
   "name": "python3"
  },
  "language_info": {
   "codemirror_mode": {
    "name": "ipython",
    "version": 3
   },
   "file_extension": ".py",
   "mimetype": "text/x-python",
   "name": "python",
   "nbconvert_exporter": "python",
   "pygments_lexer": "ipython3",
   "version": "3.9.12"
  }
 },
 "nbformat": 4,
 "nbformat_minor": 5
}
